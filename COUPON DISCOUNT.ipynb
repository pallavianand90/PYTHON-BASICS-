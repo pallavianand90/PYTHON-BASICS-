{
 "cells": [
  {
   "cell_type": "code",
   "execution_count": null,
   "metadata": {},
   "outputs": [],
   "source": [
    "s = input(\"Enter your coupon:\")\n",
    "num= ['1','2','3','4','5','6','7','8','9','0']\n",
    "\n",
    "l = []\n",
    "l1 = []\n",
    "\n",
    "for j in s:\n",
    "    l1.append(j)\n",
    "for i in l1:\n",
    "    #l.append(i)\n",
    "    #print(type(l))\n",
    "        if i in num:\n",
    "            #print('it is integer')\n",
    "            l.append(int(i)) \n",
    "            \n",
    "            if type(i) == int:\n",
    "                l.append(i)\n",
    "#print(l)\n",
    "\n",
    "\n",
    "if len(l) ==3:\n",
    "    a = l[0]*100 + l[1]*10 + l[2]*1\n",
    "    print(\"You are getting discount:\",a)\n",
    "    if a <= 100:\n",
    "        total_amt = MRP - (MRP*(a/100))\n",
    "        MRP = int(input(\"Enter the amount:\"))\n",
    "        print(\"total amount after discount is:\",total_amt)\n",
    "    else:\n",
    "        print(\"it is not valid\")\n",
    "        \n",
    "        \n",
    "\n",
    "elif  len(l) ==2 or len(l)==1:\n",
    "    b = l[0]*10 + l[1]*1 \n",
    "    print(\"You are getting discount:\",b)\n",
    "    total_amt = MRP - (MRP*(b/100))\n",
    "    MRP = int(input(\"Enter the amount:\"))\n",
    "    print(\"total amount after discount is:\",total_amt)\n",
    "else:\n",
    "    print(' Length doesnot match')\n",
    "   \n",
    "\n",
    "\n",
    "\n",
    "        "
   ]
  }
 ],
 "metadata": {
  "kernelspec": {
   "display_name": "Python 3",
   "language": "python",
   "name": "python3"
  },
  "language_info": {
   "codemirror_mode": {
    "name": "ipython",
    "version": 3
   },
   "file_extension": ".py",
   "mimetype": "text/x-python",
   "name": "python",
   "nbconvert_exporter": "python",
   "pygments_lexer": "ipython3",
   "version": "3.6.5"
  }
 },
 "nbformat": 4,
 "nbformat_minor": 2
}
